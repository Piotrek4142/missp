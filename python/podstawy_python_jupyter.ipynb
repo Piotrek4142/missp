{
  "nbformat": 4,
  "nbformat_minor": 0,
  "metadata": {
    "colab": {
      "name": "podstawy_python_jupyter.ipynb",
      "provenance": [],
      "collapsed_sections": []
    },
    "kernelspec": {
      "display_name": "Python 3",
      "language": "python",
      "name": "python3"
    },
    "language_info": {
      "codemirror_mode": {
        "name": "ipython",
        "version": 3
      },
      "file_extension": ".py",
      "mimetype": "text/x-python",
      "name": "python",
      "nbconvert_exporter": "python",
      "pygments_lexer": "ipython3",
      "version": "3.7.3"
    }
  },
  "cells": [
    {
      "cell_type": "code",
      "metadata": {
        "id": "Pinn19TDkIUC",
        "outputId": "69a32691-2892-4f6b-9c5e-c6307c7676a1"
      },
      "source": [
        "# komentarz\n",
        "\n",
        "# if\n",
        "\n",
        "wielkosc = 5\n",
        "\n",
        "print(wielkosc)"
      ],
      "execution_count": null,
      "outputs": [
        {
          "output_type": "stream",
          "text": [
            "5\n"
          ],
          "name": "stdout"
        }
      ]
    },
    {
      "cell_type": "code",
      "metadata": {
        "id": "WYvzydOykIUI",
        "outputId": "c80367f3-5411-459e-e084-b1ee641e502f"
      },
      "source": [
        "if wielkosc >6:\n",
        "    print(\"ale duze\")\n",
        "elif wielkosc < 3:\n",
        "    print(\"malutkie\")\n",
        "    print('franek')\n",
        "else:\n",
        "    print(\"w sam raz\")"
      ],
      "execution_count": null,
      "outputs": [
        {
          "output_type": "stream",
          "text": [
            "w sam raz\n"
          ],
          "name": "stdout"
        }
      ]
    },
    {
      "cell_type": "code",
      "metadata": {
        "id": "3M8MzUzakIUL",
        "outputId": "3ffd5fce-d133-474c-bb60-b165c3bb8f53"
      },
      "source": [
        "studenci = [\"Ania\", \"Zosia\", \"Kasia\", \"Franek\"]\n",
        "\n",
        "print(studenci)"
      ],
      "execution_count": null,
      "outputs": [
        {
          "output_type": "stream",
          "text": [
            "['Ania', 'Zosia', 'Kasia', 'Franek']\n"
          ],
          "name": "stdout"
        }
      ]
    },
    {
      "cell_type": "code",
      "metadata": {
        "id": "KCttdy8akIUO",
        "outputId": "f1a31153-2412-471f-ccdd-5a3d5cfc0ae6"
      },
      "source": [
        "studenci[0][1]"
      ],
      "execution_count": null,
      "outputs": [
        {
          "output_type": "execute_result",
          "data": {
            "text/plain": [
              "'Ania'"
            ]
          },
          "metadata": {
            "tags": []
          },
          "execution_count": 16
        }
      ]
    },
    {
      "cell_type": "code",
      "metadata": {
        "id": "1S0F3YTEkIUR",
        "scrolled": true,
        "outputId": "29c98476-9e7c-40f3-b5b1-9be287c8b058"
      },
      "source": [
        "for student in studenci:\n",
        "    print(\"student ma na imie:\", student)\n",
        "    \n",
        "for student in studenci:\n",
        "    print(student)\n",
        "    if student[0]==\"A\":\n",
        "        print(\"student na poczatku alfabetu\")"
      ],
      "execution_count": null,
      "outputs": [
        {
          "output_type": "stream",
          "text": [
            "student ma na imie: Ania\n",
            "student ma na imie: Zosia\n",
            "student ma na imie: Kasia\n",
            "student ma na imie: Franek\n",
            "Ania\n",
            "student na poczatku alfabetu\n",
            "Zosia\n",
            "Kasia\n",
            "Franek\n"
          ],
          "name": "stdout"
        }
      ]
    },
    {
      "cell_type": "code",
      "metadata": {
        "id": "Nm9WK6xrkIUW",
        "outputId": "e40173be-65b8-425b-9d0e-06df88ec2181"
      },
      "source": [
        "for numer, student in enumerate(studenci):\n",
        "    print(\"student {} ma numer {}\".format(student,numer))"
      ],
      "execution_count": null,
      "outputs": [
        {
          "output_type": "stream",
          "text": [
            "student Ania ma numer 0\n",
            "student Zosia ma numer 1\n",
            "student Kasia ma numer 2\n",
            "student Franek ma numer 3\n"
          ],
          "name": "stdout"
        }
      ]
    },
    {
      "cell_type": "code",
      "metadata": {
        "id": "tErW1OZ_kIUa",
        "outputId": "28b2903f-caaf-4f4c-ad50-c815eaf22179"
      },
      "source": [
        "oceny = [2,2,5,3]\n",
        "\n",
        "for numer, student in enumerate(studenci):\n",
        "    print(\"student {} ma numer {} i ocenę {}\".format(student,numer,oceny[numer]))\n",
        "\n",
        "print(\"--\"*20)    \n",
        "for number, (student, ocena) in enumerate(zip(studenci,oceny)):\n",
        "    print(\"student {} ma numer {} i ocenę {}\".format(student,number,ocena))"
      ],
      "execution_count": null,
      "outputs": [
        {
          "output_type": "stream",
          "text": [
            "student Ania ma numer 0 i ocenę 2\n",
            "student Zosia ma numer 1 i ocenę 2\n",
            "student Kasia ma numer 2 i ocenę 5\n",
            "student Franek ma numer 3 i ocenę 3\n",
            "----------------------------------------\n",
            "student Ania ma numer 0 i ocenę 2\n",
            "student Zosia ma numer 1 i ocenę 2\n",
            "student Kasia ma numer 2 i ocenę 5\n",
            "student Franek ma numer 3 i ocenę 3\n"
          ],
          "name": "stdout"
        }
      ]
    },
    {
      "cell_type": "code",
      "metadata": {
        "id": "d5WppI-HkIUd"
      },
      "source": [
        "trzy_elementy= [1,2,3]\n",
        "pierwszy,drugi,trzeci= trzy_elementy"
      ],
      "execution_count": null,
      "outputs": []
    },
    {
      "cell_type": "code",
      "metadata": {
        "id": "CshwcGSjkIUg",
        "colab": {
          "base_uri": "https://localhost:8080/",
          "height": 168
        },
        "outputId": "c3b7d39a-7e37-4977-8ead-7c044f06249b"
      },
      "source": [
        "n = 1\n",
        "\n",
        "while(n < 10):\n",
        "    print(n)\n",
        "    n+=1"
      ],
      "execution_count": null,
      "outputs": [
        {
          "output_type": "stream",
          "text": [
            "1\n",
            "2\n",
            "3\n",
            "4\n",
            "5\n",
            "6\n",
            "7\n",
            "8\n",
            "9\n"
          ],
          "name": "stdout"
        }
      ]
    },
    {
      "cell_type": "code",
      "metadata": {
        "id": "QTI2aOiHkIUj",
        "colab": {
          "base_uri": "https://localhost:8080/",
          "height": 128
        },
        "outputId": "de5279b7-4b6e-49a9-f85e-1fa9f71c5712"
      },
      "source": [
        "def dodaj_dwa(liczba):\n",
        "    return liczba+2\n",
        "\n",
        "def dodaj_trzy(liczba):\n",
        "    return liczba+3\n",
        "\n",
        "def dodaj_dwie_liczby(liczba1,liczba2)\n",
        "    return liczba1+liczba2\n",
        "\n",
        "\n",
        "dodaj_cztery = lambda liczba:liczba+4"
      ],
      "execution_count": null,
      "outputs": [
        {
          "output_type": "error",
          "ename": "SyntaxError",
          "evalue": "ignored",
          "traceback": [
            "\u001b[0;36m  File \u001b[0;32m\"<ipython-input-1-d79cd408a7f3>\"\u001b[0;36m, line \u001b[0;32m7\u001b[0m\n\u001b[0;31m    def dodaj_dwie_liczby(liczba1,liczba2)\u001b[0m\n\u001b[0m                                          ^\u001b[0m\n\u001b[0;31mSyntaxError\u001b[0m\u001b[0;31m:\u001b[0m invalid syntax\n"
          ]
        }
      ]
    },
    {
      "cell_type": "code",
      "metadata": {
        "id": "gInGThthkIUm",
        "outputId": "ecc6c8a2-a8fb-4f34-d523-53cd31dac62b"
      },
      "source": [
        "funkcje=[dodaj_dwa,dodaj_trzy,dodaj_cztery]\n",
        "\n",
        "jakis_nr= 10\n",
        "\n",
        "for funkcja in funkcje:\n",
        "    print(funkcja(jakis_nr))"
      ],
      "execution_count": null,
      "outputs": [
        {
          "output_type": "stream",
          "text": [
            "12\n",
            "13\n",
            "14\n"
          ],
          "name": "stdout"
        }
      ]
    },
    {
      "cell_type": "code",
      "metadata": {
        "id": "sOwagRyLkIUr",
        "outputId": "6709fb69-0458-4d69-bc2b-8c0fc360d338"
      },
      "source": [
        "studenci[0]\n",
        "studenci[1:]\n",
        "studenci[:-1]"
      ],
      "execution_count": null,
      "outputs": [
        {
          "output_type": "execute_result",
          "data": {
            "text/plain": [
              "['Ania', 'Zosia', 'Kasia']"
            ]
          },
          "metadata": {
            "tags": []
          },
          "execution_count": 35
        }
      ]
    },
    {
      "cell_type": "code",
      "metadata": {
        "id": "Lyf93OEdkIUv"
      },
      "source": [
        "#### challenge 0.1\n",
        "\n",
        "zajecia = [\"wf\",\"informatyka\",\"relax\",\"mispy\",\"piateczek\"]\n",
        "\n",
        "dnityg= [\"Pon\",\"Wto\",\"Sro\",\"Czwar\",\"Pio\"]\n",
        "\n",
        "# wyprintuj zajecia od srody do piatku\n",
        "# wyprintuj oprocz srody"
      ],
      "execution_count": null,
      "outputs": []
    },
    {
      "cell_type": "code",
      "metadata": {
        "id": "gDtIznZcrcd2",
        "colab": {
          "base_uri": "https://localhost:8080/",
          "height": 67
        },
        "outputId": "8a37e413-8501-4c3f-e421-0fcc64da66ed"
      },
      "source": [
        "for numer, (dzien ,zajecie) in enumerate(zip(dnityg[2:], zajecia[2:])):\n",
        "    print(dzien, zajecie)"
      ],
      "execution_count": null,
      "outputs": [
        {
          "output_type": "stream",
          "text": [
            "Sro relax\n",
            "Czwar mispy\n",
            "Pio piateczek\n"
          ],
          "name": "stdout"
        }
      ]
    },
    {
      "cell_type": "code",
      "metadata": {
        "id": "Db4kbLxN0-NB",
        "colab": {
          "base_uri": "https://localhost:8080/",
          "height": 84
        },
        "outputId": "ba844a32-0c82-41c8-9e8b-3ba1a04bf30a"
      },
      "source": [
        "for numer, (dzien ,zajecie) in enumerate(zip(dnityg, zajecia)):\n",
        "   if numer != 2:\n",
        "    print(dzien, zajecie)"
      ],
      "execution_count": null,
      "outputs": [
        {
          "output_type": "stream",
          "text": [
            "Pon ['wf']\n",
            "Wto ['informatyka', 'nauka czytania']\n",
            "Czwar ['mispy', 'mispy w domu']\n",
            "Pio ['piateczek', 'praca domowa z mispow', 'Ilovemispy', 'mispy w czasie snu']\n"
          ],
          "name": "stdout"
        }
      ]
    },
    {
      "cell_type": "code",
      "metadata": {
        "id": "7bt2FbsokIUx"
      },
      "source": [
        "#### challenge 0.2\n",
        "\n",
        "zajecia = [[\"wf\"],\n",
        "           [\"informatyka\", \"nauka czytania\"],\n",
        "           [\"relax\", \"jedzenie\"],\n",
        "           [\"mispy\",\"mispy w domu\"],\n",
        "           [\"piateczek\", \"praca domowa z mispow\", \"Ilovemispy\", \"mispy w czasie snu\"]\n",
        "          ]\n",
        "\n",
        "dnityg= [\"Pon\",\"Wto\",\"Sro\",\"Czwar\",\"Pio\"]\n",
        "\n",
        "# zdefiniuj funkcje ktora poda ile jest zajec danego dnia\n",
        "# lista_zajec_z_dnia -> ile ich jest\n",
        "\n",
        "# po\n",
        "# posortuj dni po najbardziej zajetych\n",
        "\n",
        "\n",
        "#### challenge 0.3\n",
        "\n",
        "# napisz program ktory zdajdzie dzien z najwieksza iloscia mispow"
      ],
      "execution_count": 7,
      "outputs": []
    },
    {
      "cell_type": "code",
      "metadata": {
        "id": "8XgBC1M8VAw4",
        "colab": {
          "base_uri": "https://localhost:8080/"
        },
        "outputId": "0d018e4d-84ec-4cb4-968c-3c3ba086e1c8"
      },
      "source": [
        "def ile_zajec(dzien):\n",
        "    for x, y in enumerate(dnityg):\n",
        "        if y == dzien:\n",
        "            zajecia_z_dnia = x\n",
        "    return len(zajecia[zajecia_z_dnia]) \n",
        "\n",
        "print(ile_zajec(\"Pon\"))\n",
        "   \n",
        "   "
      ],
      "execution_count": 11,
      "outputs": [
        {
          "output_type": "stream",
          "text": [
            "1\n"
          ],
          "name": "stdout"
        }
      ]
    },
    {
      "cell_type": "code",
      "metadata": {
        "id": "6gvDT0BByGcg",
        "colab": {
          "base_uri": "https://localhost:8080/"
        },
        "outputId": "b06dfd08-f5db-4eed-c4ff-09c73137b793"
      },
      "source": [
        "print(sorted(dnityg, key=ile, reverse = True))"
      ],
      "execution_count": 12,
      "outputs": [
        {
          "output_type": "stream",
          "text": [
            "['Pio', 'Wto', 'Sro', 'Czwar', 'Pon']\n"
          ],
          "name": "stdout"
        }
      ]
    },
    {
      "cell_type": "code",
      "metadata": {
        "id": "j-aXjLdXyGGS",
        "colab": {
          "base_uri": "https://localhost:8080/"
        },
        "outputId": "31b6a8c4-5d49-4790-8691-205310da5fcb"
      },
      "source": [
        "def ile_mispow(zajecia_w_dzien):\n",
        "    ilosc_mispow = 0\n",
        "    for przedmiot in zajecia_w_dzien:\n",
        "        if \"misp\" in przedmiot:\n",
        "            ilosc_mispow +=1\n",
        "    \n",
        "    return ilosc_mispow\n",
        "\n",
        "print(max(zip(dnityg,zajecia), key = lambda para: ile_mispow(para[1]))[0])"
      ],
      "execution_count": 15,
      "outputs": [
        {
          "output_type": "stream",
          "text": [
            "Pio\n"
          ],
          "name": "stdout"
        }
      ]
    },
    {
      "cell_type": "code",
      "metadata": {
        "id": "eR-IaJ9AZ1Sn"
      },
      "source": [
        ""
      ],
      "execution_count": null,
      "outputs": []
    },
    {
      "cell_type": "code",
      "metadata": {
        "id": "P9EPlDsgkIU0",
        "colab": {
          "base_uri": "https://localhost:8080/",
          "height": 34
        },
        "outputId": "9d5bc4b0-247f-4cd8-d19c-e8bc93c327ae"
      },
      "source": [
        "len(zajecia)\n",
        "\n",
        "zajecia[4][1]\n",
        "\n",
        "\"Ma\" in \"MojaMaMa\"\n",
        "\n",
        "liczby=[\"22\",\"11\",\"33\",\"100\"]\n",
        "liczby_i_nazwy= [(\"22\",\"dwadziescia dwa\"),\n",
        "                 (\"11\",\"jedenascie\"),\n",
        "        (\"33\",\"trzydziesci trzy\"),(\"100\",\"sto\")]\n",
        "sorted(liczby)\n",
        "\n",
        "sorted(liczby, key=int)\n",
        "\n",
        "liczby_kolejnosc= enumerate(liczby)\n",
        "\n",
        "def czy_jest_jeden(liczba):\n",
        "\n",
        "    if \"1\" in liczba:\n",
        "        return 1\n",
        "    else:\n",
        "        return 0\n",
        "def na_liczbe(krotka):\n",
        "         return int(krotka[0])\n",
        "def na_liczbe_index(krotka):\n",
        "         return int(krotka[1])    \n",
        "sorted(liczby, key=czy_jest_jeden)\n",
        "         \n",
        "sorted(liczby_i_nazwy,key=na_liczbe)\n",
        "\n",
        "sorted(liczby_kolejnosc,key=na_liczbe_index)"
      ],
      "execution_count": null,
      "outputs": [
        {
          "output_type": "execute_result",
          "data": {
            "text/plain": [
              "[(1, '11'), (0, '22'), (2, '33'), (3, '100')]"
            ]
          },
          "metadata": {
            "tags": []
          },
          "execution_count": 19
        }
      ]
    },
    {
      "cell_type": "code",
      "metadata": {
        "id": "tAinMOeGkIU4",
        "colab": {
          "base_uri": "https://localhost:8080/",
          "height": 34
        },
        "outputId": "b6ebef73-3f43-4015-a07d-22db33731c67"
      },
      "source": [
        "liczby_kolejnosc= enumerate(liczby)\n",
        "print (liczby_kolejnosc)\n"
      ],
      "execution_count": null,
      "outputs": [
        {
          "output_type": "stream",
          "text": [
            "<enumerate object at 0x7fc36f3ff0d8>\n"
          ],
          "name": "stdout"
        }
      ]
    },
    {
      "cell_type": "code",
      "metadata": {
        "id": "AV-p2QCXkIU6"
      },
      "source": [
        ""
      ],
      "execution_count": null,
      "outputs": []
    }
  ]
}